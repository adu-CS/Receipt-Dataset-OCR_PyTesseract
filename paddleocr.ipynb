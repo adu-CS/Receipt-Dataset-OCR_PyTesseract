{
 "cells": [
  {
   "cell_type": "code",
   "execution_count": 2,
   "metadata": {},
   "outputs": [
    {
     "ename": "ModuleNotFoundError",
     "evalue": "No module named 'paddle'",
     "output_type": "error",
     "traceback": [
      "\u001b[1;31m---------------------------------------------------------------------------\u001b[0m",
      "\u001b[1;31mModuleNotFoundError\u001b[0m                       Traceback (most recent call last)",
      "Cell \u001b[1;32mIn[2], line 3\u001b[0m\n\u001b[0;32m      1\u001b[0m \u001b[38;5;28;01mimport\u001b[39;00m\u001b[38;5;250m \u001b[39m\u001b[38;5;21;01mcv2\u001b[39;00m\n\u001b[0;32m      2\u001b[0m \u001b[38;5;28;01mimport\u001b[39;00m\u001b[38;5;250m \u001b[39m\u001b[38;5;21;01mre\u001b[39;00m\n\u001b[1;32m----> 3\u001b[0m \u001b[38;5;28;01mfrom\u001b[39;00m\u001b[38;5;250m \u001b[39m\u001b[38;5;21;01mpaddleocr\u001b[39;00m\u001b[38;5;250m \u001b[39m\u001b[38;5;28;01mimport\u001b[39;00m PaddleOCR\n\u001b[0;32m      4\u001b[0m \u001b[38;5;28;01mimport\u001b[39;00m\u001b[38;5;250m \u001b[39m\u001b[38;5;21;01mjson\u001b[39;00m\n\u001b[0;32m      5\u001b[0m \u001b[38;5;28;01mimport\u001b[39;00m\u001b[38;5;250m \u001b[39m\u001b[38;5;21;01mos\u001b[39;00m\n",
      "File \u001b[1;32mc:\\Users\\adars\\Downloads\\archive (11)\\venv\\lib\\site-packages\\paddleocr\\__init__.py:14\u001b[0m\n\u001b[0;32m      1\u001b[0m \u001b[38;5;66;03m# Copyright (c) 2020 PaddlePaddle Authors. All Rights Reserved.\u001b[39;00m\n\u001b[0;32m      2\u001b[0m \u001b[38;5;66;03m#\u001b[39;00m\n\u001b[0;32m      3\u001b[0m \u001b[38;5;66;03m# Licensed under the Apache License, Version 2.0 (the \"License\");\u001b[39;00m\n\u001b[1;32m   (...)\u001b[0m\n\u001b[0;32m     12\u001b[0m \u001b[38;5;66;03m# See the License for the specific language governing permissions and\u001b[39;00m\n\u001b[0;32m     13\u001b[0m \u001b[38;5;66;03m# limitations under the License.\u001b[39;00m\n\u001b[1;32m---> 14\u001b[0m \u001b[38;5;28;01mfrom\u001b[39;00m\u001b[38;5;250m \u001b[39m\u001b[38;5;21;01m.\u001b[39;00m\u001b[38;5;21;01mpaddleocr\u001b[39;00m\u001b[38;5;250m \u001b[39m\u001b[38;5;28;01mimport\u001b[39;00m (\n\u001b[0;32m     15\u001b[0m     PaddleOCR,\n\u001b[0;32m     16\u001b[0m     PPStructure,\n\u001b[0;32m     17\u001b[0m     draw_ocr,\n\u001b[0;32m     18\u001b[0m     draw_structure_result,\n\u001b[0;32m     19\u001b[0m     save_structure_res,\n\u001b[0;32m     20\u001b[0m     download_with_progressbar,\n\u001b[0;32m     21\u001b[0m     sorted_layout_boxes,\n\u001b[0;32m     22\u001b[0m     convert_info_docx,\n\u001b[0;32m     23\u001b[0m     to_excel,\n\u001b[0;32m     24\u001b[0m )\n\u001b[0;32m     25\u001b[0m \u001b[38;5;28;01mimport\u001b[39;00m\u001b[38;5;250m \u001b[39m\u001b[38;5;21;01mimportlib\u001b[39;00m\u001b[38;5;21;01m.\u001b[39;00m\u001b[38;5;21;01mmetadata\u001b[39;00m\u001b[38;5;250m \u001b[39m\u001b[38;5;28;01mas\u001b[39;00m\u001b[38;5;250m \u001b[39m\u001b[38;5;21;01mimportlib_metadata\u001b[39;00m\n\u001b[0;32m     27\u001b[0m \u001b[38;5;28;01mtry\u001b[39;00m:\n",
      "File \u001b[1;32mc:\\Users\\adars\\Downloads\\archive (11)\\venv\\lib\\site-packages\\paddleocr\\paddleocr.py:21\u001b[0m\n\u001b[0;32m     17\u001b[0m \u001b[38;5;28;01mimport\u001b[39;00m\u001b[38;5;250m \u001b[39m\u001b[38;5;21;01mimportlib\u001b[39;00m\n\u001b[0;32m     19\u001b[0m \u001b[38;5;21m__dir__\u001b[39m \u001b[38;5;241m=\u001b[39m os\u001b[38;5;241m.\u001b[39mpath\u001b[38;5;241m.\u001b[39mdirname(\u001b[38;5;18m__file__\u001b[39m)\n\u001b[1;32m---> 21\u001b[0m \u001b[38;5;28;01mfrom\u001b[39;00m\u001b[38;5;250m \u001b[39m\u001b[38;5;21;01mpaddle\u001b[39;00m\u001b[38;5;21;01m.\u001b[39;00m\u001b[38;5;21;01mutils\u001b[39;00m\u001b[38;5;250m \u001b[39m\u001b[38;5;28;01mimport\u001b[39;00m try_import\n\u001b[0;32m     23\u001b[0m sys\u001b[38;5;241m.\u001b[39mpath\u001b[38;5;241m.\u001b[39mappend(os\u001b[38;5;241m.\u001b[39mpath\u001b[38;5;241m.\u001b[39mjoin(\u001b[38;5;21m__dir__\u001b[39m, \u001b[38;5;124m\"\u001b[39m\u001b[38;5;124m\"\u001b[39m))\n\u001b[0;32m     25\u001b[0m \u001b[38;5;28;01mimport\u001b[39;00m\u001b[38;5;250m \u001b[39m\u001b[38;5;21;01mcv2\u001b[39;00m\n",
      "\u001b[1;31mModuleNotFoundError\u001b[0m: No module named 'paddle'"
     ]
    }
   ],
   "source": [
    "import cv2\n",
    "import re\n",
    "from paddleocr import PaddleOCR\n",
    "import json\n",
    "import os\n",
    "\n",
    "# Initialize PaddleOCR\n",
    "ocr = PaddleOCR(use_angle_cls=True, lang='en')\n",
    "\n",
    "# Preprocessing Function\n",
    "def preprocess_image(image_path):\n",
    "    image = cv2.imread(image_path, cv2.IMREAD_GRAYSCALE)  # Convert to grayscale\n",
    "    image = cv2.GaussianBlur(image, (5, 5), 0)            # Apply Gaussian blur\n",
    "    _, image = cv2.threshold(image, 0, 255, cv2.THRESH_BINARY + cv2.THRESH_OTSU)  # Apply adaptive thresholding\n",
    "    return image\n",
    "\n",
    "# OCR Function\n",
    "def perform_ocr(image_path):\n",
    "    # Preprocess the image\n",
    "    preprocessed_image = preprocess_image(image_path)\n",
    "    \n",
    "    # Save the preprocessed image (optional, for visualization)\n",
    "    cv2.imwrite(\"preprocessed_receipt.jpg\", preprocessed_image)\n",
    "    \n",
    "    # Run OCR\n",
    "    results = ocr.ocr(preprocessed_image)\n",
    "    \n",
    "    # Extract lines of text\n",
    "    lines = [line[1][0] for line in results[0]]\n",
    "    return lines\n",
    "\n",
    "# Extract Product-Price Pairs\n",
    "def extract_product_price_pairs(lines):\n",
    "    price_pattern = r\"\\$\\d+(\\.\\d{2})?\"  # Regex to match prices (e.g., $12.34)\n",
    "    pairs = []\n",
    "    \n",
    "    for line in lines:\n",
    "        # Search for price in the line\n",
    "        match = re.search(price_pattern, line)\n",
    "        if match:\n",
    "            price = match.group(0)\n",
    "            # Remove price from the line to isolate the product name\n",
    "            product = line.replace(price, \"\").strip()\n",
    "            pairs.append({\"product\": product, \"price\": price})\n",
    "    return pairs\n",
    "\n",
    "# Main Function\n",
    "def process_receipt(image_path):\n",
    "    # Step 1: Perform OCR\n",
    "    lines = perform_ocr(image_path)\n",
    "    \n",
    "    # Step 2: Extract product-price pairs\n",
    "    product_price_pairs = extract_product_price_pairs(lines)\n",
    "    \n",
    "    # Step 3: Output results\n",
    "    output = {\n",
    "        \"pairs\": product_price_pairs,\n",
    "        \"total_items\": len(product_price_pairs)\n",
    "    }\n",
    "    return output\n",
    "\n"
   ]
  },
  {
   "cell_type": "code",
   "execution_count": null,
   "metadata": {},
   "outputs": [],
   "source": [
    "# Run the Pipeline\n",
    "if __name__ == \"__main__\":\n",
    "    \n",
    "    # Folder containing images\n",
    "    image_folder = 'images/'  # Replace with the path to your images folder\n",
    "\n",
    "    # Get a list of all image files in the folder\n",
    "    image_files = [f for f in os.listdir(image_folder) if f.endswith((\".jpg\", \".png\", \".jpeg\"))]\n",
    "    results = process_receipt(image_files)\n",
    "    \n",
    "    # Print the results\n",
    "    print(json.dumps(results, indent=4))\n",
    "    \n",
    "    # Save the results to a JSON file\n",
    "    with open(\"output.json\", \"w\") as f:\n",
    "        json.dump(results, f, indent=4)\n"
   ]
  }
 ],
 "metadata": {
  "kernelspec": {
   "display_name": "venv",
   "language": "python",
   "name": "python3"
  },
  "language_info": {
   "codemirror_mode": {
    "name": "ipython",
    "version": 3
   },
   "file_extension": ".py",
   "mimetype": "text/x-python",
   "name": "python",
   "nbconvert_exporter": "python",
   "pygments_lexer": "ipython3",
   "version": "3.10.11"
  }
 },
 "nbformat": 4,
 "nbformat_minor": 2
}
