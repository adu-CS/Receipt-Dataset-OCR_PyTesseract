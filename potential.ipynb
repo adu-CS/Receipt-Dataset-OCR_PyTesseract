{
 "cells": [
  {
   "cell_type": "code",
   "execution_count": null,
   "metadata": {},
   "outputs": [],
   "source": [
    "import pytesseract\n",
    "import cv2\n",
    "\n",
    "def extract_features_and_labels(image_path, label_data):\n",
    "    img = cv2.imread(image_path)\n",
    "    d = pytesseract.image_to_data(img, output_type=pytesseract.Output.DICT)\n",
    "    \n",
    "    features = []\n",
    "    labels = []\n",
    "\n",
    "    # Iterate through all text bounding boxes\n",
    "    for i in range(len(d['text'])):\n",
    "        text1 = d['text'][i].strip()\n",
    "        x1, y1, w1, h1 = d['left'][i], d['top'][i], d['width'][i], d['height'][i]\n",
    "\n",
    "        for j in range(len(d['text'])):\n",
    "            if i == j: #skip same word\n",
    "                continue\n",
    "            text2 = d['text'][j].strip()\n",
    "            x2, y2, w2, h2 = d['left'][j], d['top'][j], d['width'][j], d['height'][j]\n",
    "\n",
    "            # Calculate distances\n",
    "            horizontal_distance = abs(x1 - x2)\n",
    "            vertical_distance = abs(y1 - y2)\n",
    "            \n",
    "            # Append features (distances)\n",
    "            features.append([horizontal_distance, vertical_distance])\n",
    "\n",
    "            # Add labels based on your labeled data\n",
    "            label = label_data.get((text1, text2), 0) #Default label to 0 if not found in 'label_data'\n",
    "        \n",
    "            labels.append(label)\n",
    "\n",
    "    return features, labels\n"
   ]
  }
 ],
 "metadata": {
  "kernelspec": {
   "display_name": "venv",
   "language": "python",
   "name": "python3"
  },
  "language_info": {
   "name": "python",
   "version": "3.10.11"
  }
 },
 "nbformat": 4,
 "nbformat_minor": 2
}
